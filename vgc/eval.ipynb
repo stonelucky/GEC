{
 "nbformat": 4,
 "nbformat_minor": 2,
 "metadata": {
  "language_info": {
   "name": "python",
   "codemirror_mode": {
    "name": "ipython",
    "version": 3
   },
   "version": "3.5.0"
  },
  "orig_nbformat": 2,
  "file_extension": ".py",
  "mimetype": "text/x-python",
  "name": "python",
  "npconvert_exporter": "python",
  "pygments_lexer": "ipython3",
  "version": 3
 },
 "cells": [
  {
   "cell_type": "code",
   "execution_count": 7,
   "metadata": {},
   "outputs": [],
   "source": [
    "import numpy as np\n",
    "import pandas as pd"
   ]
  },
  {
   "cell_type": "code",
   "execution_count": 8,
   "metadata": {},
   "outputs": [],
   "source": [
    "def parse_file(file_path, evals_name):\n",
    "    df = pd.read_csv(file_path, sep=',', header=None, names=evals_name)\n",
    "    for name in evals_name:\n",
    "        df[name] = [float(item.replace(name+'=', '')) for item in df[name]]\n",
    "    return df"
   ]
  },
  {
   "cell_type": "code",
   "execution_count": 9,
   "metadata": {},
   "outputs": [],
   "source": [
    "evals_name = 'ACC=, f1_macro=, precision_macro=, recall_macro=, f1_micro=, precision_micro=, recall_micro=, NMI=, ADJ_RAND_SCORE='.strip('=').split('=, ')\n",
    "path_1 = 'recoder_clustering_citeseer_iter100_arga_arvga_carvga-S_carvga-C_carvga-nocat.txt'\n",
    "\n",
    "df1 = parse_file(path_1, evals_name)"
   ]
  },
  {
   "cell_type": "code",
   "execution_count": 10,
   "metadata": {},
   "outputs": [
    {
     "data": {
      "text/html": "<div>\n<style>\n    .dataframe thead tr:only-child th {\n        text-align: right;\n    }\n\n    .dataframe thead th {\n        text-align: left;\n    }\n\n    .dataframe tbody tr th {\n        vertical-align: top;\n    }\n</style>\n<table border=\"1\" class=\"dataframe\">\n  <thead>\n    <tr style=\"text-align: right;\">\n      <th></th>\n      <th>ACC</th>\n      <th>f1_macro</th>\n      <th>precision_macro</th>\n      <th>recall_macro</th>\n      <th>f1_micro</th>\n      <th>precision_micro</th>\n      <th>recall_micro</th>\n      <th>NMI</th>\n      <th>ADJ_RAND_SCORE</th>\n    </tr>\n  </thead>\n  <tbody>\n    <tr>\n      <th>0</th>\n      <td>0.673191</td>\n      <td>0.668662</td>\n      <td>0.726410</td>\n      <td>0.676063</td>\n      <td>0.673191</td>\n      <td>0.673191</td>\n      <td>0.673191</td>\n      <td>0.489600</td>\n      <td>0.416842</td>\n    </tr>\n    <tr>\n      <th>1</th>\n      <td>0.639956</td>\n      <td>0.636214</td>\n      <td>0.638844</td>\n      <td>0.671584</td>\n      <td>0.639956</td>\n      <td>0.639956</td>\n      <td>0.639956</td>\n      <td>0.472971</td>\n      <td>0.389355</td>\n    </tr>\n    <tr>\n      <th>2</th>\n      <td>0.754062</td>\n      <td>0.707619</td>\n      <td>0.775998</td>\n      <td>0.713767</td>\n      <td>0.754062</td>\n      <td>0.754062</td>\n      <td>0.754062</td>\n      <td>0.575986</td>\n      <td>0.545169</td>\n    </tr>\n    <tr>\n      <th>3</th>\n      <td>0.639586</td>\n      <td>0.641439</td>\n      <td>0.657763</td>\n      <td>0.663223</td>\n      <td>0.639586</td>\n      <td>0.639586</td>\n      <td>0.639586</td>\n      <td>0.475861</td>\n      <td>0.393439</td>\n    </tr>\n    <tr>\n      <th>4</th>\n      <td>0.245938</td>\n      <td>0.181070</td>\n      <td>0.248014</td>\n      <td>0.212312</td>\n      <td>0.245938</td>\n      <td>0.245938</td>\n      <td>0.245938</td>\n      <td>0.060673</td>\n      <td>0.019434</td>\n    </tr>\n    <tr>\n      <th>5</th>\n      <td>0.645126</td>\n      <td>0.629203</td>\n      <td>0.650994</td>\n      <td>0.669726</td>\n      <td>0.645126</td>\n      <td>0.645126</td>\n      <td>0.645126</td>\n      <td>0.494273</td>\n      <td>0.413251</td>\n    </tr>\n  </tbody>\n</table>\n</div>",
      "text/plain": "        ACC  f1_macro  precision_macro  recall_macro  f1_micro  \\\n0  0.673191  0.668662         0.726410      0.676063  0.673191   \n1  0.639956  0.636214         0.638844      0.671584  0.639956   \n2  0.754062  0.707619         0.775998      0.713767  0.754062   \n3  0.639586  0.641439         0.657763      0.663223  0.639586   \n4  0.245938  0.181070         0.248014      0.212312  0.245938   \n5  0.645126  0.629203         0.650994      0.669726  0.645126   \n\n   precision_micro  recall_micro       NMI  ADJ_RAND_SCORE  \n0         0.673191      0.673191  0.489600        0.416842  \n1         0.639956      0.639956  0.472971        0.389355  \n2         0.754062      0.754062  0.575986        0.545169  \n3         0.639586      0.639586  0.475861        0.393439  \n4         0.245938      0.245938  0.060673        0.019434  \n5         0.645126      0.645126  0.494273        0.413251  "
     },
     "execution_count": 10,
     "metadata": {},
     "output_type": "execute_result"
    }
   ],
   "source": [
    "df1"
   ]
  },
  {
   "cell_type": "code",
   "execution_count": 11,
   "metadata": {},
   "outputs": [],
   "source": [
    "matrics = ['ACC', 'precision_macro', 'f1_macro', 'ADJ_RAND_SCORE', 'NMI']\n",
    "tab = df1.loc[:, matrics].apply(lambda x: np.round(x, 3))"
   ]
  },
  {
   "cell_type": "code",
   "execution_count": 12,
   "metadata": {},
   "outputs": [
    {
     "data": {
      "text/html": "<div>\n<style>\n    .dataframe thead tr:only-child th {\n        text-align: right;\n    }\n\n    .dataframe thead th {\n        text-align: left;\n    }\n\n    .dataframe tbody tr th {\n        vertical-align: top;\n    }\n</style>\n<table border=\"1\" class=\"dataframe\">\n  <thead>\n    <tr style=\"text-align: right;\">\n      <th></th>\n      <th>ACC</th>\n      <th>precision_macro</th>\n      <th>f1_macro</th>\n      <th>ADJ_RAND_SCORE</th>\n      <th>NMI</th>\n    </tr>\n  </thead>\n  <tbody>\n    <tr>\n      <th>0</th>\n      <td>0.673</td>\n      <td>0.726</td>\n      <td>0.669</td>\n      <td>0.417</td>\n      <td>0.490</td>\n    </tr>\n    <tr>\n      <th>1</th>\n      <td>0.640</td>\n      <td>0.639</td>\n      <td>0.636</td>\n      <td>0.389</td>\n      <td>0.473</td>\n    </tr>\n    <tr>\n      <th>2</th>\n      <td>0.754</td>\n      <td>0.776</td>\n      <td>0.708</td>\n      <td>0.545</td>\n      <td>0.576</td>\n    </tr>\n    <tr>\n      <th>3</th>\n      <td>0.640</td>\n      <td>0.658</td>\n      <td>0.641</td>\n      <td>0.393</td>\n      <td>0.476</td>\n    </tr>\n    <tr>\n      <th>4</th>\n      <td>0.246</td>\n      <td>0.248</td>\n      <td>0.181</td>\n      <td>0.019</td>\n      <td>0.061</td>\n    </tr>\n    <tr>\n      <th>5</th>\n      <td>0.645</td>\n      <td>0.651</td>\n      <td>0.629</td>\n      <td>0.413</td>\n      <td>0.494</td>\n    </tr>\n  </tbody>\n</table>\n</div>",
      "text/plain": "     ACC  precision_macro  f1_macro  ADJ_RAND_SCORE    NMI\n0  0.673            0.726     0.669           0.417  0.490\n1  0.640            0.639     0.636           0.389  0.473\n2  0.754            0.776     0.708           0.545  0.576\n3  0.640            0.658     0.641           0.393  0.476\n4  0.246            0.248     0.181           0.019  0.061\n5  0.645            0.651     0.629           0.413  0.494"
     },
     "execution_count": 12,
     "metadata": {},
     "output_type": "execute_result"
    }
   ],
   "source": [
    "tab"
   ]
  }
 ]
}